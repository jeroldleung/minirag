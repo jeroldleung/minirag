{
 "cells": [
  {
   "cell_type": "code",
   "execution_count": 1,
   "metadata": {},
   "outputs": [],
   "source": [
    "from dotenv import load_dotenv\n",
    "\n",
    "# load environment variables from .env file\n",
    "assert load_dotenv(), 'Failed to load environment variables'"
   ]
  },
  {
   "cell_type": "code",
   "execution_count": 2,
   "metadata": {},
   "outputs": [
    {
     "name": "stdout",
     "output_type": "stream",
     "text": [
      "Got it! Let me know how I can assist you with this test. 😊\n"
     ]
    }
   ],
   "source": [
    "import os\n",
    "\n",
    "from openai import OpenAI\n",
    "\n",
    "# deepseek for llm client\n",
    "client = OpenAI(base_url='https://api.deepseek.com', api_key=os.getenv('DEEPSEEK_API_KEY'))\n",
    "\n",
    "# test the client\n",
    "messages = [\n",
    "    {'role': 'system', 'content': 'You are a helpful assistant.'},\n",
    "    {'role': 'user', 'content': 'Say this is a test.'},\n",
    "]\n",
    "response = client.chat.completions.create(model='deepseek-chat', messages=messages)\n",
    "print(response.choices[0].message.content)"
   ]
  },
  {
   "cell_type": "code",
   "execution_count": 3,
   "metadata": {},
   "outputs": [],
   "source": [
    "# ducument for embeddings\n",
    "DOCUMENT = 'The Olympic Games are an international multi-sport event held every four years, bringing together athletes from around the world to compete in a wide range of sports. Originating in ancient Greece around 776 BCE, the modern Olympics were revived in 1896 by Pierre de Coubertin. The Games are divided into the Summer and Winter Olympics, with each occurring every four years in alternating cycles. They promote values of excellence, friendship, and respect, fostering unity and sportsmanship among nations. The Olympics feature iconic traditions such as the Olympic flame, the opening and closing ceremonies, and the awarding of gold, silver, and bronze medals.'"
   ]
  },
  {
   "cell_type": "markdown",
   "metadata": {},
   "source": [
    "Before embedding, documents which are too large should be chunked for better retrieval. Several tools can be used for chunking.\n",
    "* For LLM-based apps: `Tiktoken`\n",
    "* For semantic chunking: `NLTK`\n",
    "* For simple fix-size chunking: `Textwrap`\n",
    "* For token-aware chunking: `Hugging Face Tokenizers`"
   ]
  },
  {
   "cell_type": "code",
   "execution_count": 4,
   "metadata": {},
   "outputs": [],
   "source": [
    "import chromadb\n",
    "\n",
    "# chromedb for vector store\n",
    "vector_store = chromadb.Client()\n",
    "collection = vector_store.get_or_create_collection('olympics')"
   ]
  },
  {
   "cell_type": "code",
   "execution_count": 5,
   "metadata": {},
   "outputs": [],
   "source": [
    "# embed the document\n",
    "collection.upsert(ids='intro', documents=DOCUMENT)"
   ]
  },
  {
   "cell_type": "code",
   "execution_count": 6,
   "metadata": {},
   "outputs": [
    {
     "name": "stdout",
     "output_type": "stream",
     "text": [
      "{'ids': ['intro'], 'embeddings': array([[ 1.79688800e-02,  1.18339844e-01,  6.72155842e-02,\n",
      "        -7.08082020e-02, -4.75794729e-03,  2.44840644e-02,\n",
      "        -7.89013319e-03, -6.69706240e-02, -2.07181112e-03,\n",
      "         3.21410187e-02, -1.26450405e-01,  5.10243326e-02,\n",
      "        -4.60675955e-02,  5.82205541e-02,  1.88843417e-03,\n",
      "        -3.16090584e-02, -5.11947274e-02,  6.29511476e-02,\n",
      "        -7.85850063e-02, -6.17706217e-02,  9.65088084e-02,\n",
      "        -1.02336958e-01, -6.96366951e-02, -6.96109794e-03,\n",
      "        -7.27820471e-02,  8.85843933e-02, -5.08588366e-02,\n",
      "         4.81406413e-03,  4.74892417e-03,  1.27982005e-01,\n",
      "        -5.03585525e-02, -4.03356180e-02,  3.19394246e-02,\n",
      "         1.70302726e-02, -5.66602983e-02,  1.06500849e-01,\n",
      "        -2.88458522e-02, -2.86371671e-02, -6.58168569e-02,\n",
      "         7.74316415e-02,  1.14370380e-02, -1.39400680e-02,\n",
      "         2.39230413e-02,  1.29687097e-02, -2.02092272e-03,\n",
      "         1.03467621e-01,  1.33820921e-02, -5.74484700e-03,\n",
      "        -2.58494318e-02,  5.47089130e-02,  6.65912479e-02,\n",
      "        -6.05277671e-03,  5.59183359e-02, -1.66719090e-02,\n",
      "         5.48429005e-02,  4.63931002e-02, -4.51033153e-02,\n",
      "        -2.59907246e-02, -1.82090756e-02, -4.16558571e-02,\n",
      "         1.26091635e-03,  6.48649037e-03, -3.02767623e-02,\n",
      "         6.50368482e-02, -7.68028051e-02,  1.36700626e-02,\n",
      "         5.38166938e-03,  7.17366934e-02,  2.58498881e-02,\n",
      "        -4.36373278e-02,  5.33137172e-02,  2.65568146e-03,\n",
      "        -4.29657334e-03, -1.39322411e-02, -3.08645684e-02,\n",
      "         9.26783383e-02, -1.69061515e-02, -4.94942516e-02,\n",
      "        -5.89454323e-02, -1.91904692e-04,  7.56172091e-02,\n",
      "        -1.08989127e-01,  9.99817252e-02, -5.58864586e-02,\n",
      "         9.44121778e-02, -2.17876602e-02, -4.76988889e-02,\n",
      "        -9.37728211e-02,  1.83443651e-02,  1.23495692e-02,\n",
      "        -5.99631853e-02, -1.03302421e-02,  9.30993930e-02,\n",
      "         2.42742728e-02,  2.28722617e-02,  4.34108637e-02,\n",
      "        -5.30484840e-02,  1.12879416e-02,  7.55672976e-02,\n",
      "         4.32673395e-02,  1.02935703e-02, -1.25241419e-02,\n",
      "         3.09172701e-02,  7.92651176e-02,  7.02342242e-02,\n",
      "        -1.57315924e-03, -2.15184838e-02, -6.68576919e-03,\n",
      "        -9.57922861e-02,  1.07934318e-01, -2.59786900e-02,\n",
      "        -3.41066457e-02,  8.57241824e-02,  1.33127039e-02,\n",
      "         4.92940936e-03,  4.89637889e-02, -9.32096615e-02,\n",
      "         3.97133715e-02,  9.42606106e-03,  8.85803178e-02,\n",
      "         6.04395708e-03,  4.82838675e-02,  2.40892377e-02,\n",
      "         2.66163331e-02,  3.34998481e-02,  1.00220889e-01,\n",
      "         6.17278740e-02, -1.93977947e-33, -1.11326002e-01,\n",
      "        -4.41895388e-02,  5.98418675e-02,  2.85987007e-05,\n",
      "        -6.98649883e-02, -2.58313715e-02,  6.63440675e-02,\n",
      "        -2.89913341e-02,  1.24393860e-02, -6.12561479e-02,\n",
      "        -4.02326994e-02,  1.26095012e-01,  1.23972828e-02,\n",
      "         1.93555448e-02,  6.52943403e-02, -6.24019885e-03,\n",
      "         1.09050190e-02, -3.43010016e-02,  1.35016814e-01,\n",
      "         1.03761032e-01,  6.63383231e-02,  5.17809903e-03,\n",
      "         3.90588120e-02,  5.43874130e-02, -2.10253540e-02,\n",
      "         5.94996400e-02,  3.80524173e-02, -1.27639025e-02,\n",
      "        -2.39684712e-02, -1.93676446e-02,  5.07314019e-02,\n",
      "        -5.26925661e-02, -3.95916887e-02, -7.12597817e-02,\n",
      "         1.43143450e-04,  1.77501105e-02,  8.02384689e-02,\n",
      "         1.84445251e-02,  2.93522347e-02,  2.43217740e-02,\n",
      "        -2.47098114e-02, -1.14791341e-01, -7.28504285e-02,\n",
      "        -5.44133410e-02,  8.77269432e-02,  3.74730378e-02,\n",
      "         6.75877742e-03, -2.53411811e-02, -3.35402302e-02,\n",
      "        -9.96432547e-03, -2.76194997e-02, -2.57762596e-02,\n",
      "         1.26315374e-02, -4.71498892e-02,  2.39278041e-02,\n",
      "        -1.45731373e-02, -5.08229211e-02, -5.88574372e-02,\n",
      "        -5.76833114e-02, -5.72534241e-02,  2.97679808e-02,\n",
      "         2.17338675e-03, -2.30690408e-02,  2.38026008e-02,\n",
      "         4.95075956e-02,  7.37410709e-02,  4.94845659e-02,\n",
      "        -3.12809721e-02, -2.11708304e-02, -3.53281908e-02,\n",
      "         1.52367754e-02, -3.92698534e-02, -3.45611982e-02,\n",
      "        -6.18708059e-02,  4.99603562e-02,  5.40898480e-02,\n",
      "         1.09470583e-01, -7.48388618e-02, -7.26848841e-02,\n",
      "         2.49609854e-02, -3.77463698e-02, -5.33346832e-03,\n",
      "         9.95224714e-03,  4.40066122e-02,  8.48906022e-03,\n",
      "         2.64410898e-02,  1.92035118e-03,  6.68913573e-02,\n",
      "         3.35037112e-02, -3.83757666e-04, -3.01422905e-02,\n",
      "        -6.37557507e-02,  4.11808155e-02,  5.93820438e-02,\n",
      "        -4.96438518e-02, -3.46679779e-34, -8.24715756e-03,\n",
      "         3.72938477e-02, -4.23888825e-02,  4.84212376e-02,\n",
      "         1.80157628e-02,  1.75581481e-02, -9.00997370e-02,\n",
      "         2.53371280e-02, -2.30018850e-02,  3.57454158e-02,\n",
      "         6.27884734e-03, -7.85569400e-02,  7.91895241e-02,\n",
      "        -2.02428270e-02, -1.00758456e-01,  1.33085120e-02,\n",
      "        -1.96480546e-02,  8.36663395e-02, -5.05591892e-02,\n",
      "        -2.12476100e-03,  7.42215961e-02,  5.48589602e-02,\n",
      "        -3.18337679e-02, -9.06271115e-02, -1.40153691e-02,\n",
      "        -2.12821290e-02,  8.18952918e-02, -1.06547199e-01,\n",
      "        -1.47446292e-03,  4.07869220e-02, -4.58183922e-02,\n",
      "        -1.67459827e-02,  4.90832515e-02,  1.84831098e-02,\n",
      "         1.39046051e-02,  7.75561109e-02,  4.16746810e-02,\n",
      "        -5.13718091e-02,  2.98421960e-02,  5.95191866e-03,\n",
      "        -5.20961545e-02, -3.06596719e-02,  1.86427124e-02,\n",
      "         5.17963991e-02, -5.96765941e-03,  6.52436242e-02,\n",
      "        -8.24095458e-02,  5.46100810e-02, -3.22050750e-02,\n",
      "        -6.73698187e-02, -6.91218972e-02, -4.86065410e-02,\n",
      "        -7.16553181e-02, -8.12975541e-02,  1.07004074e-02,\n",
      "        -2.63933223e-02,  1.01569295e-02, -2.01150309e-02,\n",
      "        -1.19226538e-01,  2.07877420e-02,  3.34427059e-02,\n",
      "        -4.60099801e-02, -1.56956576e-02,  7.31392205e-02,\n",
      "         2.29445323e-02, -2.47108191e-02,  2.15670932e-02,\n",
      "        -5.03112422e-03, -1.32848829e-01, -1.51453204e-02,\n",
      "        -4.35426831e-02,  1.90401636e-02, -1.13392502e-01,\n",
      "         5.12223179e-03,  1.61614604e-04,  7.00181499e-02,\n",
      "        -3.87047268e-02,  9.40205231e-02,  2.33654100e-02,\n",
      "         2.28598304e-02, -1.28097996e-01,  3.05366237e-02,\n",
      "         6.15921244e-03,  2.82093231e-02, -4.66494225e-02,\n",
      "         7.23575475e-04,  1.31745413e-02,  2.27607954e-02,\n",
      "         2.85194088e-02,  1.22747859e-02,  6.69859797e-02,\n",
      "         3.70271923e-03,  5.05051650e-02,  2.66681109e-02,\n",
      "        -1.43027771e-02, -4.36952661e-08,  5.06119952e-02,\n",
      "         9.18521658e-02, -1.56785687e-03,  8.44300818e-03,\n",
      "        -6.03497103e-02,  2.50373147e-02,  8.08244571e-03,\n",
      "        -5.78540526e-02,  9.28672496e-03, -6.58934787e-02,\n",
      "         1.67465757e-03,  4.43877019e-02, -2.46333126e-02,\n",
      "         2.13449504e-02,  2.98575629e-02,  1.90213323e-02,\n",
      "        -5.55370003e-02,  1.86239462e-02,  1.07388070e-03,\n",
      "         5.19006290e-02,  1.28993001e-02, -2.35089511e-02,\n",
      "        -1.20052285e-02, -5.69987185e-02, -3.13456245e-02,\n",
      "        -3.86373065e-02, -1.82935335e-02, -1.42055303e-02,\n",
      "        -2.09574979e-02, -1.79999117e-02, -5.19753136e-02,\n",
      "        -7.36629292e-02,  7.06992075e-02, -6.74433708e-02,\n",
      "        -1.09361494e-02, -1.48714026e-02,  7.87168974e-04,\n",
      "         2.65855547e-02, -4.29323278e-02, -1.02172934e-01,\n",
      "        -6.08119145e-02,  1.03058657e-02, -3.54766310e-03,\n",
      "         2.37390362e-02,  2.72423085e-02, -4.64461045e-03,\n",
      "         2.30334271e-02,  1.50775667e-02,  9.56825446e-03,\n",
      "         7.21801678e-03, -9.88264009e-02,  2.04237215e-02,\n",
      "        -2.59790998e-02, -3.23059335e-02, -1.78590994e-02,\n",
      "         1.18579045e-02, -3.28039676e-02, -3.92807983e-02,\n",
      "         2.07092352e-02, -7.12374151e-02, -7.61989271e-03,\n",
      "        -1.16540398e-02, -9.20193046e-02,  2.68065557e-03]]), 'documents': ['The Olympic Games are an international multi-sport event held every four years, bringing together athletes from around the world to compete in a wide range of sports. Originating in ancient Greece around 776 BCE, the modern Olympics were revived in 1896 by Pierre de Coubertin. The Games are divided into the Summer and Winter Olympics, with each occurring every four years in alternating cycles. They promote values of excellence, friendship, and respect, fostering unity and sportsmanship among nations. The Olympics feature iconic traditions such as the Olympic flame, the opening and closing ceremonies, and the awarding of gold, silver, and bronze medals.'], 'uris': None, 'data': None, 'metadatas': [None], 'included': [<IncludeEnum.embeddings: 'embeddings'>, <IncludeEnum.documents: 'documents'>, <IncludeEnum.metadatas: 'metadatas'>]}\n"
     ]
    }
   ],
   "source": [
    "# peek the collection\n",
    "print(collection.peek())"
   ]
  },
  {
   "cell_type": "code",
   "execution_count": 7,
   "metadata": {},
   "outputs": [
    {
     "name": "stdout",
     "output_type": "stream",
     "text": [
      "Query Results: {'ids': [['intro']], 'embeddings': None, 'documents': [['The Olympic Games are an international multi-sport event held every four years, bringing together athletes from around the world to compete in a wide range of sports. Originating in ancient Greece around 776 BCE, the modern Olympics were revived in 1896 by Pierre de Coubertin. The Games are divided into the Summer and Winter Olympics, with each occurring every four years in alternating cycles. They promote values of excellence, friendship, and respect, fostering unity and sportsmanship among nations. The Olympics feature iconic traditions such as the Olympic flame, the opening and closing ceremonies, and the awarding of gold, silver, and bronze medals.']], 'uris': None, 'data': None, 'metadatas': [[None]], 'distances': [[0.6842873096466064]], 'included': [<IncludeEnum.distances: 'distances'>, <IncludeEnum.documents: 'documents'>, <IncludeEnum.metadatas: 'metadatas'>]}\n"
     ]
    }
   ],
   "source": [
    "# retrieve the document\n",
    "results = collection.query(query_texts='introduction of the olympics', n_results=1)\n",
    "print(f'Query Results: {results}')"
   ]
  },
  {
   "cell_type": "code",
   "execution_count": 8,
   "metadata": {},
   "outputs": [
    {
     "name": "stdout",
     "output_type": "stream",
     "text": [
      "The Olympic Games are a premier international multi-sport event featuring Summer and Winter editions, where thousands of athletes from over 200 nations compete. Regarded as the world's foremost sports competition, they are held every four years, with Summer and Winter Games alternating every two years. \n",
      "\n",
      "Inspired by the ancient Olympic Games in Olympia, Greece (8th century BC to 4th century AD), the modern Olympics were revived by Baron Pierre de Coubertin, who founded the International Olympic Committee (IOC) in 1894. The first modern Games took place in 1896. Governed by the IOC, the Olympics have expanded to include the Winter Olympics (for snow and ice sports), the Paralympics (for athletes with disabilities), and the Youth Olympic Games (for athletes aged 14–18). \n",
      "\n",
      "The Games also significantly impact host cities, influencing their economic, social, and environmental landscapes. Over time, the Olympics have evolved to reflect changing global contexts while maintaining their core mission of promoting unity and excellence through sport.\n"
     ]
    }
   ],
   "source": [
    "# ask the LLM with the context retrieved from vector store\n",
    "context = results['documents'][0][0]\n",
    "prompt = 'You are a hepful assistant. Answer to user accroding to the following context as your learned knowledge.\\n\\nContext: {context}'\n",
    "messages = [\n",
    "    {'role': 'system', 'content': prompt},\n",
    "    {'role': 'user', 'content': 'What are the Olympic Games?'},\n",
    "]\n",
    "response = client.chat.completions.create(model='deepseek-reasoner', messages=messages)\n",
    "print(response.choices[0].message.content)"
   ]
  },
  {
   "cell_type": "code",
   "execution_count": 9,
   "metadata": {},
   "outputs": [
    {
     "name": "stdout",
     "output_type": "stream",
     "text": [
      "Okay, I need to answer the question \"What are the Olympic Games?\" based on the provided context. Let me first read through the context carefully.\n",
      "\n",
      "The context mentions that the Olympic Games are a major international multi-sport event with summer and winter editions, where thousands of athletes participate. They're considered the world's foremost sports competition with over 200 nations. The Games are held every four years, alternating between Summer and Winter every two years. Their creation was inspired by the ancient Olympic Games in Olympia, Greece, from the 8th century BC to the 4th century AD. Baron Pierre de Coubertin founded the International Olympic Committee (IOC) in 1894, leading to the first modern Games in 1896. The IOC governs the Olympic Movement, and the Games have evolved with changes like the Winter Olympics, Paralympics, and Youth Olympics. Also, the Olympics influence host cities' economic, social, and environmental aspects.\n",
      "\n",
      "Alright, so the user is asking for an explanation of the Olympic Games. I should structure the answer to cover the key points from the context. Let me start by defining the Olympics as a major international multi-sport event with both Summer and Winter versions. Mention the number of athletes and participating nations to emphasize its scale. Then talk about the frequency—every four years, alternating every two years between the two types. \n",
      "\n",
      "Next, the historical aspect: inspired by ancient Greek games, revival by Coubertin and the IOC in 1894, leading to the first modern Olympics in 1896. Should include the role of the IOC in governing the Olympic Movement. Also, note the evolution with additions like Winter Games, Paralympics, and Youth Olympics. Finally, touch on the impact on host cities in various aspects like economy and environment.\n",
      "\n",
      "Wait, the context also mentions that the ancient Games were held from the 8th century BC to the 4th century AD. That's a detail to include. Also, the part about the Paralympics for athletes with disabilities and Youth Olympics for young athletes. Make sure to differentiate between the different types of Games under the Olympic umbrella.\n",
      "\n",
      "I should check if there are any other important points. The context says the Olympics are the world's foremost sports competition, so that's a key descriptor. Also, the fact that they alternate Summer and Winter every two years within the four-year cycle. So, each type happens every four years, but staggered so there's an event every two years. That might be a bit confusing, so I need to phrase that clearly.\n",
      "\n",
      "Avoid adding information not in the context. For example, the context doesn't mention specific events or famous athletes, so I shouldn't include those. Stick strictly to what's provided.\n",
      "\n",
      "Now, organizing all this into a coherent answer. Start with a definition, then history, structure (summer/winter, frequency), governing body, evolution (Paralympics, Youth), and impact on hosts. Keep it concise but cover all main points from the context.\n"
     ]
    }
   ],
   "source": [
    "# reasoning content of reasoning model\n",
    "print(response.choices[0].message.reasoning_content)"
   ]
  }
 ],
 "metadata": {
  "kernelspec": {
   "display_name": ".venv",
   "language": "python",
   "name": "python3"
  },
  "language_info": {
   "codemirror_mode": {
    "name": "ipython",
    "version": 3
   },
   "file_extension": ".py",
   "mimetype": "text/x-python",
   "name": "python",
   "nbconvert_exporter": "python",
   "pygments_lexer": "ipython3",
   "version": "3.12.8"
  }
 },
 "nbformat": 4,
 "nbformat_minor": 2
}
